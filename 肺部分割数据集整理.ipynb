{
 "cells": [
  {
   "cell_type": "code",
   "execution_count": 1,
   "id": "0ca58d5f",
   "metadata": {},
   "outputs": [],
   "source": [
    "import os\n",
    "import SimpleITK as sitk\n",
    "import glob\n"
   ]
  },
  {
   "cell_type": "markdown",
   "id": "1171cd80",
   "metadata": {},
   "source": [
    "#### **数据探索**"
   ]
  },
  {
   "cell_type": "code",
   "execution_count": 2,
   "id": "296a6e5e",
   "metadata": {},
   "outputs": [],
   "source": [
    "# label 是121 个图，image 是176个图\n",
    "label_dir = '/data/liucd/Dataset/LungSeg/ct-lungseg/nrrd_lung/nrrd_lung'\n",
    "image_dir = '/data/liucd/Dataset/LungSeg/ct-lung/train'\n"
   ]
  },
  {
   "cell_type": "code",
   "execution_count": 3,
   "id": "bb4aa335",
   "metadata": {},
   "outputs": [],
   "source": [
    "# 确保所有的label都是有对应的image的\n",
    "# for image_filename in os.listdir(image_dir):\n",
    "#     print(image_filename, end=' ')\n",
    "#     for label_filename in os.listdir(label_dir):\n",
    "#         if image_filename in label_filename:\n",
    "#             print(label_filename)\n",
    "#             break\n",
    "image_list = [name for name in os.listdir(image_dir)]\n",
    "label_list = [name.split('_')[0] for name in os.listdir(label_dir)]"
   ]
  },
  {
   "cell_type": "code",
   "execution_count": 4,
   "id": "d409918e",
   "metadata": {},
   "outputs": [],
   "source": [
    "merge_list = list(set(image_list) & set(label_list))"
   ]
  },
  {
   "cell_type": "code",
   "execution_count": 5,
   "id": "74f1a547",
   "metadata": {},
   "outputs": [
    {
     "data": {
      "text/plain": [
       "(177, 111, 110)"
      ]
     },
     "execution_count": 5,
     "metadata": {},
     "output_type": "execute_result"
    }
   ],
   "source": [
    "len(image_list), len(label_list), len(merge_list)"
   ]
  },
  {
   "cell_type": "raw",
   "id": "c6b4cf40",
   "metadata": {},
   "source": [
    "有一个案例是原图没有的，可能是分割的图命名错误"
   ]
  },
  {
   "cell_type": "markdown",
   "id": "5d6d8331",
   "metadata": {},
   "source": [
    "#### **数据保存**"
   ]
  },
  {
   "cell_type": "code",
   "execution_count": 6,
   "id": "3a1872cb",
   "metadata": {},
   "outputs": [
    {
     "data": {
      "text/plain": [
       "((512, 512, 118), (0.78125, 0.78125, 3.051282051282051))"
      ]
     },
     "execution_count": 6,
     "metadata": {},
     "output_type": "execute_result"
    }
   ],
   "source": [
    "# 保存为图像和标签\n",
    "def dicom2nii(dicom_dir_path):\n",
    "    reader = sitk.ImageSeriesReader()\n",
    "    img_name = reader.GetGDCMSeriesFileNames(dicom_dir_path)\n",
    "    reader.SetFileNames(img_name)\n",
    "    image = reader.Execute()\n",
    "    return image\n",
    "\n",
    "image = dicom2nii(os.path.join(image_dir, 'ID00068637202190879923934/'))\n",
    "image.GetSize(), image.GetSpacing()  # ((512, 512, 118), (0.78125, 0.78125, 3.051282051282051))"
   ]
  },
  {
   "cell_type": "code",
   "execution_count": 7,
   "id": "a1872c07",
   "metadata": {},
   "outputs": [
    {
     "data": {
      "text/plain": [
       "((512, 512, 233), (0.7031249999999999, 0.7031249999999999, 1.2500000000000002))"
      ]
     },
     "execution_count": 7,
     "metadata": {},
     "output_type": "execute_result"
    }
   ],
   "source": [
    "image = sitk.ReadImage(os.path.join(label_dir, 'ID00102637202206574119190_lung.nrrd'))\n",
    "image.GetSize(), image.GetSpacing()"
   ]
  },
  {
   "cell_type": "code",
   "execution_count": null,
   "id": "241be1ff",
   "metadata": {},
   "outputs": [],
   "source": []
  },
  {
   "cell_type": "code",
   "execution_count": 11,
   "id": "5b15d415",
   "metadata": {},
   "outputs": [
    {
     "name": "stdout",
     "output_type": "stream",
     "text": [
      "ID00075637202198610425520\n",
      "ID00105637202208831864134\n",
      "ID00351637202289476567312\n",
      "ID00025637202179541264076\n",
      "ID00381637202299644114027\n",
      "[0.88, 0.88, 0.67] [0.88, 0.88, 0.5]\n",
      "ID00405637202308359492977\n",
      "ID00343637202287577133798\n",
      "[0.47, 0.47, 4.74] [0.47, 0.47, 8.0]\n",
      "ID00222637202259066229764\n",
      "[0.67, 0.67, 4.93] [0.67, 0.67, 5.0]\n",
      "ID00210637202257228694086\n",
      "ID00019637202178323708467\n",
      "ID00307637202282126172865\n",
      "ID00048637202185016727717\n",
      "ID00305637202281772703145\n",
      "ID00068637202190879923934\n",
      "[0.78, 0.78, 3.05] [0.78, 0.78, 3.0]\n",
      "ID00323637202285211956970\n",
      "ID00184637202242062969203\n",
      "ID00109637202210454292264\n",
      "ID00400637202305055099402\n",
      "ID00111637202210956877205\n",
      "ID00411637202309374271828\n",
      "ID00130637202220059448013\n",
      "ID00299637202280383305867\n",
      "ID00104637202208063407045\n",
      "ID00010637202177584971671\n",
      "ID00073637202198167792918\n",
      "ID00249637202266730854017\n",
      "ID00007637202177411956430\n",
      "ID00192637202245493238298\n",
      "ID00196637202246668775836\n",
      "ID00367637202296290303449\n",
      "ID00197637202246865691526\n",
      "ID00119637202215426335765\n",
      "ID00051637202185848464638\n",
      "ID00417637202310901214011\n",
      "ID00288637202279148973731\n",
      "ID00255637202267923028520\n",
      "ID00167637202237397919352\n",
      "[0.7, 0.7, 1.38] [0.7, 0.7, 30.0]\n",
      "ID00426637202313170790466\n",
      "ID00279637202272164826258\n",
      "ID00319637202283897208687\n",
      "ID00139637202231703564336\n",
      "ID00140637202231728595149\n",
      "ID00090637202204766623410\n",
      "ID00089637202204675567570\n",
      "ID00331637202286306023714\n",
      "ID00229637202260254240583\n",
      "ID00186637202242472088675\n",
      "[0.65, 0.65, 0.72] [0.65, 0.65, 0.7]\n",
      "ID00241637202264294508775\n",
      "ID00082637202201836229724\n",
      "ID00125637202218590429387\n",
      "ID00218637202258156844710\n",
      "ID00235637202261451839085\n",
      "ID00169637202238024117706\n",
      "ID00337637202286839091062\n",
      "ID00340637202287399835821\n",
      "ID00122637202216437668965\n",
      "ID00149637202232704462834\n",
      "ID00129637202219868188000\n",
      "ID00383637202300493233675\n",
      "ID00275637202271440119890\n",
      "ID00213637202257692916109\n",
      "ID00170637202238079193844\n",
      "ID00131637202220424084844\n",
      "ID00076637202199015035026\n",
      "ID00322637202284842245491\n",
      "ID00015637202177877247924\n",
      "[0.52, 0.52, 0.87] [0.52, 0.52, 0.8]\n",
      "ID00335637202286784464927\n",
      "ID00117637202212360228007\n",
      "ID00392637202302319160044\n",
      "ID00298637202280361773446\n",
      "ID00285637202278913507108\n",
      "ID00267637202270790561585\n",
      "ID00168637202237852027833\n",
      "ID00344637202287684217717\n",
      "ID00329637202285906759848\n",
      "ID00360637202295712204040\n",
      "ID00365637202296085035729\n",
      "ID00370637202296737666151\n",
      "ID00126637202218610655908\n",
      "ID00123637202217151272140\n",
      "ID00094637202205333947361\n",
      "ID00207637202252526380974\n",
      "ID00110637202210673668310\n",
      "ID00355637202295106567614\n",
      "ID00012637202177665765362\n",
      "ID00273637202271319294586\n",
      "ID00232637202260377586117\n",
      "ID00423637202312137826377\n",
      "ID00276637202271694539978\n",
      "ID00225637202259339837603\n",
      "ID00358637202295388077032\n",
      "ID00009637202177434476278\n",
      "ID00172637202238316925179\n",
      "ID00364637202296074419422\n",
      "ID00219637202258203123958\n",
      "ID00290637202279304677843\n",
      "ID00072637202198161894406\n",
      "ID00199637202248141386743\n",
      "ID00061637202188184085559\n",
      "ID00407637202308788732304\n",
      "ID00264637202270643353440\n",
      "ID00060637202187965290703\n",
      "ID00102637202206574119190\n",
      "ID00398637202303897337979\n",
      "ID00077637202199102000916\n",
      "ID00052637202186188008618\n"
     ]
    },
    {
     "ename": "RuntimeError",
     "evalue": "Exception thrown in SimpleITK ImageSeriesReader_Execute: /tmp/SimpleITK-build/ITK/Modules/IO/GDCM/src/itkGDCMImageIO.cxx:307:\nitk::ERROR: itk::ERROR: GDCMImageIO(0x55c20f120fc0): Failed to change to Implicit Transfer Syntax",
     "output_type": "error",
     "traceback": [
      "\u001b[0;31m---------------------------------------------------------------------------\u001b[0m",
      "\u001b[0;31mRuntimeError\u001b[0m                              Traceback (most recent call last)",
      "\u001b[0;32m<ipython-input-11-39cfcae6a78d>\u001b[0m in \u001b[0;36m<module>\u001b[0;34m()\u001b[0m\n\u001b[1;32m      3\u001b[0m \u001b[0;32mfor\u001b[0m \u001b[0midx\u001b[0m\u001b[0;34m,\u001b[0m \u001b[0mfile_name\u001b[0m \u001b[0;32min\u001b[0m \u001b[0menumerate\u001b[0m\u001b[0;34m(\u001b[0m\u001b[0mmerge_list\u001b[0m\u001b[0;34m)\u001b[0m\u001b[0;34m:\u001b[0m\u001b[0;34m\u001b[0m\u001b[0m\n\u001b[1;32m      4\u001b[0m     \u001b[0mprint\u001b[0m\u001b[0;34m(\u001b[0m\u001b[0mfile_name\u001b[0m\u001b[0;34m)\u001b[0m\u001b[0;34m\u001b[0m\u001b[0m\n\u001b[0;32m----> 5\u001b[0;31m     \u001b[0mimage\u001b[0m \u001b[0;34m=\u001b[0m \u001b[0mdicom2nii\u001b[0m\u001b[0;34m(\u001b[0m\u001b[0mos\u001b[0m\u001b[0;34m.\u001b[0m\u001b[0mpath\u001b[0m\u001b[0;34m.\u001b[0m\u001b[0mjoin\u001b[0m\u001b[0;34m(\u001b[0m\u001b[0mimage_dir\u001b[0m\u001b[0;34m,\u001b[0m \u001b[0mfile_name\u001b[0m\u001b[0;34m)\u001b[0m\u001b[0;34m)\u001b[0m\u001b[0;34m\u001b[0m\u001b[0m\n\u001b[0m\u001b[1;32m      6\u001b[0m     \u001b[0mlabel\u001b[0m \u001b[0;34m=\u001b[0m \u001b[0msitk\u001b[0m\u001b[0;34m.\u001b[0m\u001b[0mReadImage\u001b[0m\u001b[0;34m(\u001b[0m\u001b[0mos\u001b[0m\u001b[0;34m.\u001b[0m\u001b[0mpath\u001b[0m\u001b[0;34m.\u001b[0m\u001b[0mjoin\u001b[0m\u001b[0;34m(\u001b[0m\u001b[0mlabel_dir\u001b[0m\u001b[0;34m,\u001b[0m  \u001b[0mfile_name\u001b[0m \u001b[0;34m+\u001b[0m \u001b[0;34m'_lung.nrrd'\u001b[0m\u001b[0;34m)\u001b[0m\u001b[0;34m)\u001b[0m\u001b[0;34m\u001b[0m\u001b[0m\n\u001b[1;32m      7\u001b[0m     \u001b[0;32massert\u001b[0m \u001b[0mimage\u001b[0m\u001b[0;34m.\u001b[0m\u001b[0mGetSize\u001b[0m\u001b[0;34m(\u001b[0m\u001b[0;34m)\u001b[0m \u001b[0;34m==\u001b[0m \u001b[0mlabel\u001b[0m\u001b[0;34m.\u001b[0m\u001b[0mGetSize\u001b[0m\u001b[0;34m(\u001b[0m\u001b[0;34m)\u001b[0m\u001b[0;34m\u001b[0m\u001b[0m\n",
      "\u001b[0;32m<ipython-input-6-3cb3d16317fc>\u001b[0m in \u001b[0;36mdicom2nii\u001b[0;34m(dicom_dir_path)\u001b[0m\n\u001b[1;32m      4\u001b[0m     \u001b[0mimg_name\u001b[0m \u001b[0;34m=\u001b[0m \u001b[0mreader\u001b[0m\u001b[0;34m.\u001b[0m\u001b[0mGetGDCMSeriesFileNames\u001b[0m\u001b[0;34m(\u001b[0m\u001b[0mdicom_dir_path\u001b[0m\u001b[0;34m)\u001b[0m\u001b[0;34m\u001b[0m\u001b[0m\n\u001b[1;32m      5\u001b[0m     \u001b[0mreader\u001b[0m\u001b[0;34m.\u001b[0m\u001b[0mSetFileNames\u001b[0m\u001b[0;34m(\u001b[0m\u001b[0mimg_name\u001b[0m\u001b[0;34m)\u001b[0m\u001b[0;34m\u001b[0m\u001b[0m\n\u001b[0;32m----> 6\u001b[0;31m     \u001b[0mimage\u001b[0m \u001b[0;34m=\u001b[0m \u001b[0mreader\u001b[0m\u001b[0;34m.\u001b[0m\u001b[0mExecute\u001b[0m\u001b[0;34m(\u001b[0m\u001b[0;34m)\u001b[0m\u001b[0;34m\u001b[0m\u001b[0m\n\u001b[0m\u001b[1;32m      7\u001b[0m     \u001b[0;32mreturn\u001b[0m \u001b[0mimage\u001b[0m\u001b[0;34m\u001b[0m\u001b[0m\n\u001b[1;32m      8\u001b[0m \u001b[0;34m\u001b[0m\u001b[0m\n",
      "\u001b[0;32m/data/liucd/anaconda/lib/python3.7/site-packages/SimpleITK/SimpleITK.py\u001b[0m in \u001b[0;36mExecute\u001b[0;34m(self)\u001b[0m\n\u001b[1;32m   5723\u001b[0m     \u001b[0;32mdef\u001b[0m \u001b[0mExecute\u001b[0m\u001b[0;34m(\u001b[0m\u001b[0mself\u001b[0m\u001b[0;34m)\u001b[0m\u001b[0;34m:\u001b[0m\u001b[0;34m\u001b[0m\u001b[0m\n\u001b[1;32m   5724\u001b[0m         \u001b[0;34mr\"\"\"Execute(ImageSeriesReader self) -> Image\"\"\"\u001b[0m\u001b[0;34m\u001b[0m\u001b[0m\n\u001b[0;32m-> 5725\u001b[0;31m         \u001b[0;32mreturn\u001b[0m \u001b[0m_SimpleITK\u001b[0m\u001b[0;34m.\u001b[0m\u001b[0mImageSeriesReader_Execute\u001b[0m\u001b[0;34m(\u001b[0m\u001b[0mself\u001b[0m\u001b[0;34m)\u001b[0m\u001b[0;34m\u001b[0m\u001b[0m\n\u001b[0m\u001b[1;32m   5726\u001b[0m \u001b[0;34m\u001b[0m\u001b[0m\n\u001b[1;32m   5727\u001b[0m     \u001b[0;32mdef\u001b[0m \u001b[0mGetMetaDataKeys\u001b[0m\u001b[0;34m(\u001b[0m\u001b[0mself\u001b[0m\u001b[0;34m,\u001b[0m \u001b[0mslice\u001b[0m\u001b[0;34m)\u001b[0m\u001b[0;34m:\u001b[0m\u001b[0;34m\u001b[0m\u001b[0m\n",
      "\u001b[0;31mRuntimeError\u001b[0m: Exception thrown in SimpleITK ImageSeriesReader_Execute: /tmp/SimpleITK-build/ITK/Modules/IO/GDCM/src/itkGDCMImageIO.cxx:307:\nitk::ERROR: itk::ERROR: GDCMImageIO(0x55c20f120fc0): Failed to change to Implicit Transfer Syntax"
     ]
    }
   ],
   "source": [
    "save_dir = '/data/liucd/Dataset/LungSeg'\n",
    "\n",
    "for idx, file_name in enumerate(merge_list):\n",
    "    print(file_name)\n",
    "    image = dicom2nii(os.path.join(image_dir, file_name))\n",
    "    label = sitk.ReadImage(os.path.join(label_dir,  file_name + '_lung.nrrd'))\n",
    "    assert image.GetSize() == label.GetSize()\n",
    "    try:\n",
    "        assert [(round(idx, 2)) for idx in image.GetSpacing()] == [(round(idx, 2)) for idx in label.GetSpacing()]\n",
    "    except:\n",
    "        print([(round(idx, 2)) for idx in image.GetSpacing()], [(round(idx, 2)) for idx in label.GetSpacing()])\n",
    "    \n",
    "    label.SetSpacing(image.GetSpacing())\n",
    "    label.SetOrigin(image.GetOrigin())\n",
    "    label.SetDirection(image.GetDirection())\n",
    "        \n",
    "    sitk.WriteImage(image, os.path.join(save_dir, 'imagesTr', file_name + '.nii.gz'))\n",
    "    sitk.WriteImage(label, os.path.join(save_dir, 'labelsTr', file_name + '_label.nii.gz'))\n",
    "    "
   ]
  },
  {
   "cell_type": "code",
   "execution_count": 45,
   "id": "cb44149b",
   "metadata": {},
   "outputs": [
    {
     "data": {
      "text/plain": [
       "3.14"
      ]
     },
     "execution_count": 45,
     "metadata": {},
     "output_type": "execute_result"
    }
   ],
   "source": [
    "round(3.1416, 2)"
   ]
  },
  {
   "cell_type": "markdown",
   "id": "ba5bad3c",
   "metadata": {},
   "source": [
    "### **数据EDA**"
   ]
  },
  {
   "cell_type": "code",
   "execution_count": 4,
   "id": "0edc3894",
   "metadata": {},
   "outputs": [],
   "source": [
    "base_dir = '/data/liucd/Dataset/LungSeg/'\n",
    "images_dir = os.path.join(base_dir, 'imagesTr')\n",
    "labels_dir = os.path.join(base_dir, 'labelsTr')\n",
    "images = sorted(glob.glob(os.path.join(images_dir, '*.nii.gz')))\n",
    "labels = sorted(glob.glob(os.path.join(labels_dir, '*.nii.gz')))\n"
   ]
  },
  {
   "cell_type": "code",
   "execution_count": 11,
   "id": "72b8e29f",
   "metadata": {},
   "outputs": [],
   "source": [
    "import numpy as np\n",
    "spacing_list = []\n",
    "shape_list = []\n",
    "\n",
    "for image, label in zip(images, labels):\n",
    "#     print(image)\n",
    "#     x = sitk.GetArrayFromImage(sitk.ReadImage(image))\n",
    "#     y = sitk.GetArrayFromImage(sitk.ReadImage(label))\n",
    "#     print(np.unique(y))\n",
    "    shape_list.append(sitk.ReadImage(label).GetSize())\n",
    "    spacing_list.append(sitk.ReadImage(label).GetSpacing())"
   ]
  },
  {
   "cell_type": "code",
   "execution_count": 13,
   "id": "8a9eedb1",
   "metadata": {},
   "outputs": [],
   "source": [
    "shape_arr = np.array(shape_list)\n",
    "spacing_arr = np.array(spacing_list)"
   ]
  },
  {
   "cell_type": "code",
   "execution_count": 18,
   "id": "e4f9273e",
   "metadata": {},
   "outputs": [
    {
     "data": {
      "text/plain": [
       "74.0"
      ]
     },
     "execution_count": 18,
     "metadata": {},
     "output_type": "execute_result"
    }
   ],
   "source": [
    "np.median(shape_arr[:, 2])  # z 方向的shape"
   ]
  },
  {
   "cell_type": "code",
   "execution_count": 19,
   "id": "329a44b0",
   "metadata": {},
   "outputs": [
    {
     "data": {
      "text/plain": [
       "5.0"
      ]
     },
     "execution_count": 19,
     "metadata": {},
     "output_type": "execute_result"
    }
   ],
   "source": [
    "np.median(spacing_arr[:, 2])  # z 方向的spacing"
   ]
  },
  {
   "cell_type": "code",
   "execution_count": 20,
   "id": "fb4d47df",
   "metadata": {},
   "outputs": [
    {
     "data": {
      "text/plain": [
       "512.0"
      ]
     },
     "execution_count": 20,
     "metadata": {},
     "output_type": "execute_result"
    }
   ],
   "source": [
    "np.median(shape_arr[:, 0]) # x 方向的shape"
   ]
  },
  {
   "cell_type": "code",
   "execution_count": 21,
   "id": "2d12d3a9",
   "metadata": {},
   "outputs": [
    {
     "data": {
      "text/plain": [
       "0.693359375"
      ]
     },
     "execution_count": 21,
     "metadata": {},
     "output_type": "execute_result"
    }
   ],
   "source": [
    "np.median(spacing_arr[:, 0])  # z 方向的spacing"
   ]
  },
  {
   "cell_type": "code",
   "execution_count": null,
   "id": "2390f33d",
   "metadata": {},
   "outputs": [],
   "source": []
  }
 ],
 "metadata": {
  "kernelspec": {
   "display_name": "Python 3",
   "language": "python",
   "name": "python3"
  },
  "language_info": {
   "codemirror_mode": {
    "name": "ipython",
    "version": 3
   },
   "file_extension": ".py",
   "mimetype": "text/x-python",
   "name": "python",
   "nbconvert_exporter": "python",
   "pygments_lexer": "ipython3",
   "version": "3.7.0"
  }
 },
 "nbformat": 4,
 "nbformat_minor": 5
}
