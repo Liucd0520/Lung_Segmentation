{
 "cells": [
  {
   "cell_type": "code",
   "execution_count": 2,
   "id": "74a69c44",
   "metadata": {},
   "outputs": [],
   "source": [
    "import os\n",
    "import SimpleITK as sitk\n",
    "import glob\n"
   ]
  },
  {
   "cell_type": "markdown",
   "id": "ac3b8e44",
   "metadata": {},
   "source": [
    "#### **数据探索**"
   ]
  },
  {
   "cell_type": "code",
   "execution_count": 3,
   "id": "9fba7a3c",
   "metadata": {},
   "outputs": [],
   "source": [
    "# label 是121 个图，image 是176个图\n",
    "label_dir = '/data/liucd/Dataset/LungSeg/ct-lungseg/nrrd_lung/nrrd_lung'\n",
    "image_dir = '/data/liucd/Dataset/LungSeg/ct-lung/train'\n"
   ]
  },
  {
   "cell_type": "code",
   "execution_count": 12,
   "id": "2b811c5d",
   "metadata": {},
   "outputs": [],
   "source": [
    "# 确保所有的label都是有对应的image的\n",
    "# for image_filename in os.listdir(image_dir):\n",
    "#     print(image_filename, end=' ')\n",
    "#     for label_filename in os.listdir(label_dir):\n",
    "#         if image_filename in label_filename:\n",
    "#             print(label_filename)\n",
    "#             break\n",
    "image_list = [name for name in os.listdir(image_dir)]\n",
    "label_list = [name.split('_')[0] for name in os.listdir(label_dir)]"
   ]
  },
  {
   "cell_type": "code",
   "execution_count": 18,
   "id": "08601b29",
   "metadata": {},
   "outputs": [],
   "source": [
    "merge_list = list(set(image_list) & set(label_list))"
   ]
  },
  {
   "cell_type": "code",
   "execution_count": 20,
   "id": "0f44a425",
   "metadata": {},
   "outputs": [
    {
     "data": {
      "text/plain": [
       "(176, 111, 110)"
      ]
     },
     "execution_count": 20,
     "metadata": {},
     "output_type": "execute_result"
    }
   ],
   "source": [
    "len(image_list), len(label_list), len(merge_list)"
   ]
  },
  {
   "cell_type": "raw",
   "id": "9ec8bda7",
   "metadata": {},
   "source": [
    "有一个案例是原图没有的，可能是分割的图命名错误"
   ]
  },
  {
   "cell_type": "markdown",
   "id": "f7a0c60e",
   "metadata": {},
   "source": [
    "#### **数据保存**"
   ]
  },
  {
   "cell_type": "code",
   "execution_count": 36,
   "id": "204c93dd",
   "metadata": {},
   "outputs": [
    {
     "data": {
      "text/plain": [
       "((512, 512, 118), (0.78125, 0.78125, 3.051282051282051))"
      ]
     },
     "execution_count": 36,
     "metadata": {},
     "output_type": "execute_result"
    }
   ],
   "source": [
    "# 保存为图像和标签\n",
    "def dicom2nii(dicom_dir_path):\n",
    "    reader = sitk.ImageSeriesReader()\n",
    "    img_name = reader.GetGDCMSeriesFileNames(dicom_dir_path)\n",
    "    reader.SetFileNames(img_name)\n",
    "    image = reader.Execute()\n",
    "    return image\n",
    "\n",
    "# image = dicom2nii(os.path.join(image_dir, 'ID00068637202190879923934/'))\n",
    "# image.GetSize(), image.GetSpacing()  # ((512, 512, 118), (0.78125, 0.78125, 3.051282051282051))"
   ]
  },
  {
   "cell_type": "code",
   "execution_count": 40,
   "id": "2917731c",
   "metadata": {},
   "outputs": [
    {
     "data": {
      "text/plain": [
       "((512, 512, 233), (0.7031249999999999, 0.7031249999999999, 1.2500000000000002))"
      ]
     },
     "execution_count": 40,
     "metadata": {},
     "output_type": "execute_result"
    }
   ],
   "source": [
    "image = sitk.ReadImage(os.path.join(label_dir, 'ID00102637202206574119190_lung.nrrd'))\n",
    "image.GetSize(), image.GetSpacing()"
   ]
  },
  {
   "cell_type": "code",
   "execution_count": null,
   "id": "c6318e66",
   "metadata": {},
   "outputs": [],
   "source": [
    "save_dir = '/data/liucd/Dataset/LungSeg'\n",
    "\n",
    "for idx, file_name in enumerate(merge_list[:102]):\n",
    "    print(file_name)\n",
    "    image = dicom2nii(os.path.join(image_dir, file_name))\n",
    "    label = sitk.ReadImage(os.path.join(label_dir,  file_name + '_lung.nrrd'))\n",
    "    assert image.GetSize() == label.GetSize()\n",
    "    try:\n",
    "        assert [(round(idx, 2)) for idx in image.GetSpacing()] == [(round(idx, 2)) for idx in label.GetSpacing()]\n",
    "    except:\n",
    "        print([(round(idx, 2)) for idx in image.GetSpacing()], [(round(idx, 2)) for idx in label.GetSpacing()])\n",
    "    \n",
    "    label.SetSpacing(image.GetSpacing())\n",
    "    label.SetOrigin(image.GetOrigin())\n",
    "    label.SetDirection(image.GetDirection())\n",
    "        \n",
    "#     sitk.WriteImage(image, os.path.join(save_dir, 'imagesTr', file_name + '.nii.gz'))\n",
    "    sitk.WriteImage(label, os.path.join(save_dir, 'labelsTr', file_name + '_label.nii.gz'))\n",
    "    "
   ]
  },
  {
   "cell_type": "code",
   "execution_count": 45,
   "id": "06e36005",
   "metadata": {},
   "outputs": [
    {
     "data": {
      "text/plain": [
       "3.14"
      ]
     },
     "execution_count": 45,
     "metadata": {},
     "output_type": "execute_result"
    }
   ],
   "source": [
    "round(3.1416, 2)"
   ]
  },
  {
   "cell_type": "markdown",
   "id": "6d531cb5",
   "metadata": {},
   "source": [
    "### **数据EDA**"
   ]
  },
  {
   "cell_type": "code",
   "execution_count": 4,
   "id": "d77bdbcd",
   "metadata": {},
   "outputs": [],
   "source": [
    "base_dir = '/data/liucd/Dataset/LungSeg/'\n",
    "images_dir = os.path.join(base_dir, 'imagesTr')\n",
    "labels_dir = os.path.join(base_dir, 'labelsTr')\n",
    "images = sorted(glob.glob(os.path.join(images_dir, '*.nii.gz')))\n",
    "labels = sorted(glob.glob(os.path.join(labels_dir, '*.nii.gz')))\n"
   ]
  },
  {
   "cell_type": "code",
   "execution_count": 11,
   "id": "6ef5ee56",
   "metadata": {},
   "outputs": [],
   "source": [
    "import numpy as np\n",
    "spacing_list = []\n",
    "shape_list = []\n",
    "\n",
    "for image, label in zip(images, labels):\n",
    "#     print(image)\n",
    "#     x = sitk.GetArrayFromImage(sitk.ReadImage(image))\n",
    "#     y = sitk.GetArrayFromImage(sitk.ReadImage(label))\n",
    "#     print(np.unique(y))\n",
    "    shape_list.append(sitk.ReadImage(label).GetSize())\n",
    "    spacing_list.append(sitk.ReadImage(label).GetSpacing())"
   ]
  },
  {
   "cell_type": "code",
   "execution_count": 13,
   "id": "af5870e8",
   "metadata": {},
   "outputs": [],
   "source": [
    "shape_arr = np.array(shape_list)\n",
    "spacing_arr = np.array(spacing_list)"
   ]
  },
  {
   "cell_type": "code",
   "execution_count": 18,
   "id": "80ed5e64",
   "metadata": {},
   "outputs": [
    {
     "data": {
      "text/plain": [
       "74.0"
      ]
     },
     "execution_count": 18,
     "metadata": {},
     "output_type": "execute_result"
    }
   ],
   "source": [
    "np.median(shape_arr[:, 2])  # z 方向的shape"
   ]
  },
  {
   "cell_type": "code",
   "execution_count": 19,
   "id": "b5426a00",
   "metadata": {},
   "outputs": [
    {
     "data": {
      "text/plain": [
       "5.0"
      ]
     },
     "execution_count": 19,
     "metadata": {},
     "output_type": "execute_result"
    }
   ],
   "source": [
    "np.median(spacing_arr[:, 2])  # z 方向的spacing"
   ]
  },
  {
   "cell_type": "code",
   "execution_count": 20,
   "id": "62cd6dd8",
   "metadata": {},
   "outputs": [
    {
     "data": {
      "text/plain": [
       "512.0"
      ]
     },
     "execution_count": 20,
     "metadata": {},
     "output_type": "execute_result"
    }
   ],
   "source": [
    "np.median(shape_arr[:, 0]) # x 方向的shape"
   ]
  },
  {
   "cell_type": "code",
   "execution_count": 21,
   "id": "48edb75e",
   "metadata": {},
   "outputs": [
    {
     "data": {
      "text/plain": [
       "0.693359375"
      ]
     },
     "execution_count": 21,
     "metadata": {},
     "output_type": "execute_result"
    }
   ],
   "source": [
    "np.median(spacing_arr[:, 0])  # z 方向的spacing"
   ]
  },
  {
   "cell_type": "code",
   "execution_count": null,
   "id": "8645f202",
   "metadata": {},
   "outputs": [],
   "source": []
  }
 ],
 "metadata": {
  "kernelspec": {
   "display_name": "Python 3",
   "language": "python",
   "name": "python3"
  },
  "language_info": {
   "codemirror_mode": {
    "name": "ipython",
    "version": 3
   },
   "file_extension": ".py",
   "mimetype": "text/x-python",
   "name": "python",
   "nbconvert_exporter": "python",
   "pygments_lexer": "ipython3",
   "version": "3.7.0"
  }
 },
 "nbformat": 4,
 "nbformat_minor": 5
}
